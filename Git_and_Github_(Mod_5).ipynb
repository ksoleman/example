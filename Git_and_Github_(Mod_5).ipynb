{
  "nbformat": 4,
  "nbformat_minor": 0,
  "metadata": {
    "colab": {
      "provenance": [],
      "authorship_tag": "ABX9TyMy4CUzZqXcryOhr1HiCtKz",
      "include_colab_link": true
    },
    "kernelspec": {
      "name": "python3",
      "display_name": "Python 3"
    },
    "language_info": {
      "name": "python"
    }
  },
  "cells": [
    {
      "cell_type": "markdown",
      "metadata": {
        "id": "view-in-github",
        "colab_type": "text"
      },
      "source": [
        "<a href=\"https://colab.research.google.com/github/ksoleman/example/blob/main/Git_and_Github_(Mod_5).ipynb\" target=\"_parent\"><img src=\"https://colab.research.google.com/assets/colab-badge.svg\" alt=\"Open In Colab\"/></a>"
      ]
    },
    {
      "cell_type": "markdown",
      "source": [
        "# **Git and Github (Module 5)**"
      ],
      "metadata": {
        "id": "TtI0u8YmAvCw"
      }
    },
    {
      "cell_type": "markdown",
      "source": [
        "**Navigating Directories Mac**"
      ],
      "metadata": {
        "id": "hhAWHHgUA0lF"
      }
    },
    {
      "cell_type": "markdown",
      "source": [
        "print current directory using `!pwd`"
      ],
      "metadata": {
        "id": "j7E_H9AkCGF-"
      }
    },
    {
      "cell_type": "code",
      "execution_count": null,
      "metadata": {
        "colab": {
          "base_uri": "https://localhost:8080/"
        },
        "id": "nLUXnZI6Ao1Y",
        "outputId": "73e21439-cfae-4833-8007-6a465a043749"
      },
      "outputs": [
        {
          "output_type": "stream",
          "name": "stdout",
          "text": [
            "/\n"
          ]
        }
      ],
      "source": [
        "!pwd"
      ]
    },
    {
      "cell_type": "markdown",
      "source": [
        "list of what is in current directory"
      ],
      "metadata": {
        "id": "UU8sgHIiCNMq"
      }
    },
    {
      "cell_type": "code",
      "source": [
        "!ls"
      ],
      "metadata": {
        "id": "4DAnW1T5CL01",
        "colab": {
          "base_uri": "https://localhost:8080/"
        },
        "outputId": "5e8f409f-aaf9-46c5-fe72-cc99beee6488"
      },
      "execution_count": null,
      "outputs": [
        {
          "output_type": "stream",
          "name": "stdout",
          "text": [
            "sample_data  Test1\n"
          ]
        }
      ]
    },
    {
      "cell_type": "markdown",
      "source": [
        "same as above but gives additional information such as when created and by whom"
      ],
      "metadata": {
        "id": "NHzMmAxICeW5"
      }
    },
    {
      "cell_type": "code",
      "source": [
        "!ls -l"
      ],
      "metadata": {
        "colab": {
          "base_uri": "https://localhost:8080/"
        },
        "id": "q_t4OdaiCW6m",
        "outputId": "25ae8d0d-c959-40b3-a684-56e1577e123e"
      },
      "execution_count": null,
      "outputs": [
        {
          "output_type": "stream",
          "name": "stdout",
          "text": [
            "total 8\n",
            "drwxr-xr-x 1 root root 4096 Jul 27 13:37 sample_data\n",
            "drwxr-xr-x 2 root root 4096 Jul 28 22:24 Test1\n"
          ]
        }
      ]
    },
    {
      "cell_type": "markdown",
      "source": [
        "%cd alone takes you to root, %cd follows by name of folder takes you to that folder. cd is change directory. Need to put % before for it to work in colab"
      ],
      "metadata": {
        "id": "LG6GyZzKCLGY"
      }
    },
    {
      "cell_type": "code",
      "source": [
        "%cd sample_data"
      ],
      "metadata": {
        "id": "FomUOzWbCj6c",
        "colab": {
          "base_uri": "https://localhost:8080/"
        },
        "outputId": "01c722cd-a7f5-4507-9818-f4a0dcd03c78"
      },
      "execution_count": 29,
      "outputs": [
        {
          "output_type": "stream",
          "name": "stdout",
          "text": [
            "[Errno 2] No such file or directory: 'sample_data'\n",
            "/content/test1\n"
          ]
        }
      ]
    },
    {
      "cell_type": "code",
      "source": [
        "!ls"
      ],
      "metadata": {
        "id": "_8tYKh7DECLB",
        "outputId": "5f15fc9b-0983-434b-eca5-7b00f0f2e4ae",
        "colab": {
          "base_uri": "https://localhost:8080/"
        }
      },
      "execution_count": null,
      "outputs": [
        {
          "output_type": "stream",
          "name": "stdout",
          "text": [
            "anscombe.json\t\t      mnist_test.csv\n",
            "california_housing_test.csv   mnist_train_small.csv\n",
            "california_housing_train.csv  README.md\n"
          ]
        }
      ]
    },
    {
      "cell_type": "markdown",
      "source": [
        "%cd .. takes you one step up"
      ],
      "metadata": {
        "id": "Q5fkJtpVu7Hf"
      }
    },
    {
      "cell_type": "code",
      "source": [
        "%cd .."
      ],
      "metadata": {
        "colab": {
          "base_uri": "https://localhost:8080/"
        },
        "id": "qPSzwo3Ju2ji",
        "outputId": "8e798219-3e38-40d8-c08f-524d7a1b14fe"
      },
      "execution_count": null,
      "outputs": [
        {
          "output_type": "stream",
          "name": "stdout",
          "text": [
            "/content\n"
          ]
        }
      ]
    },
    {
      "cell_type": "code",
      "source": [
        "!pwd"
      ],
      "metadata": {
        "colab": {
          "base_uri": "https://localhost:8080/"
        },
        "id": "OKX4Si_Nu4ca",
        "outputId": "0534e861-5999-4aac-95e6-28fec08e015e"
      },
      "execution_count": null,
      "outputs": [
        {
          "output_type": "stream",
          "name": "stdout",
          "text": [
            "/content\n"
          ]
        }
      ]
    },
    {
      "cell_type": "code",
      "source": [
        "%cd /content"
      ],
      "metadata": {
        "colab": {
          "base_uri": "https://localhost:8080/"
        },
        "id": "7TmmSA_-vCu-",
        "outputId": "dda31327-d23d-4f48-affc-fe8a5006bc6f"
      },
      "execution_count": null,
      "outputs": [
        {
          "output_type": "stream",
          "name": "stdout",
          "text": [
            "/content\n"
          ]
        }
      ]
    },
    {
      "cell_type": "markdown",
      "source": [
        "create new directory"
      ],
      "metadata": {
        "id": "hrbggUnHvc_T"
      }
    },
    {
      "cell_type": "code",
      "source": [
        "!mkdir dirtest"
      ],
      "metadata": {
        "id": "23VjAyRJvgo6"
      },
      "execution_count": null,
      "outputs": []
    },
    {
      "cell_type": "code",
      "source": [
        "%cd dirtest"
      ],
      "metadata": {
        "colab": {
          "base_uri": "https://localhost:8080/"
        },
        "id": "2AZm9iIIvnHm",
        "outputId": "cf5e1e6f-32d8-4be1-9144-72bd509892ee"
      },
      "execution_count": null,
      "outputs": [
        {
          "output_type": "stream",
          "name": "stdout",
          "text": [
            "/content/dirtest\n"
          ]
        }
      ]
    },
    {
      "cell_type": "markdown",
      "source": [
        "create a new file within directory we are currently in"
      ],
      "metadata": {
        "id": "P0xJhVYRwBgX"
      }
    },
    {
      "cell_type": "code",
      "source": [
        "!touch example.py"
      ],
      "metadata": {
        "id": "EUyijSNEvwXh"
      },
      "execution_count": null,
      "outputs": []
    },
    {
      "cell_type": "code",
      "source": [
        "!touch example1.py"
      ],
      "metadata": {
        "id": "aAGqDXemwl5r"
      },
      "execution_count": null,
      "outputs": []
    },
    {
      "cell_type": "code",
      "source": [
        "!ls"
      ],
      "metadata": {
        "colab": {
          "base_uri": "https://localhost:8080/"
        },
        "id": "A94U309ov_bH",
        "outputId": "a5890bb9-4c89-413e-cc16-ab54d7c02aea"
      },
      "execution_count": null,
      "outputs": [
        {
          "output_type": "stream",
          "name": "stdout",
          "text": [
            "example1.py  example.py\n"
          ]
        }
      ]
    },
    {
      "cell_type": "markdown",
      "source": [
        "**Git and GitHub Basics**"
      ],
      "metadata": {
        "id": "BKzBEJtu7Xyl"
      }
    },
    {
      "cell_type": "markdown",
      "source": [
        "**Git and Git Hub Basics**"
      ],
      "metadata": {
        "id": "e4ZM9RgQ7bo3"
      }
    },
    {
      "cell_type": "markdown",
      "source": [
        "Create repo with git init <name>, this creates a folder (repo). ensure you are in directory of choice."
      ],
      "metadata": {
        "id": "Io-7GSsnAKHt"
      }
    },
    {
      "cell_type": "code",
      "source": [
        "!git init test1"
      ],
      "metadata": {
        "colab": {
          "base_uri": "https://localhost:8080/"
        },
        "id": "KG_Wbrdf7Z5X",
        "outputId": "ef31e860-2dac-44c4-be0c-0c1481ee5a6c"
      },
      "execution_count": 30,
      "outputs": [
        {
          "output_type": "stream",
          "name": "stdout",
          "text": [
            "\u001b[33mhint: Using 'master' as the name for the initial branch. This default branch name\u001b[m\n",
            "\u001b[33mhint: is subject to change. To configure the initial branch name to use in all\u001b[m\n",
            "\u001b[33mhint: of your new repositories, which will suppress this warning, call:\u001b[m\n",
            "\u001b[33mhint: \u001b[m\n",
            "\u001b[33mhint: \tgit config --global init.defaultBranch <name>\u001b[m\n",
            "\u001b[33mhint: \u001b[m\n",
            "\u001b[33mhint: Names commonly chosen instead of 'master' are 'main', 'trunk' and\u001b[m\n",
            "\u001b[33mhint: 'development'. The just-created branch can be renamed via this command:\u001b[m\n",
            "\u001b[33mhint: \u001b[m\n",
            "\u001b[33mhint: \tgit branch -m <name>\u001b[m\n",
            "Initialized empty Git repository in /content/test1/test1/.git/\n"
          ]
        }
      ]
    },
    {
      "cell_type": "markdown",
      "source": [
        "use ls/dir to check"
      ],
      "metadata": {
        "id": "PZeyqexXAUyv"
      }
    },
    {
      "cell_type": "code",
      "source": [
        "!ls"
      ],
      "metadata": {
        "colab": {
          "base_uri": "https://localhost:8080/"
        },
        "id": "Zza1YnDVAHno",
        "outputId": "a53a3793-4578-40ca-a8cb-eb71b8f365de"
      },
      "execution_count": 31,
      "outputs": [
        {
          "output_type": "stream",
          "name": "stdout",
          "text": [
            "readme.me  test1\n"
          ]
        }
      ]
    },
    {
      "cell_type": "markdown",
      "source": [
        "navigate to the new repo"
      ],
      "metadata": {
        "id": "vtjFwvuzB94Q"
      }
    },
    {
      "cell_type": "code",
      "source": [
        "%cd test1"
      ],
      "metadata": {
        "colab": {
          "base_uri": "https://localhost:8080/"
        },
        "id": "dHV_z1c0BxjS",
        "outputId": "ad15224d-ce55-4ae4-b6d9-13bfe7ea488b"
      },
      "execution_count": 32,
      "outputs": [
        {
          "output_type": "stream",
          "name": "stdout",
          "text": [
            "/content/test1/test1\n"
          ]
        }
      ]
    },
    {
      "cell_type": "markdown",
      "source": [
        "Create a markdown file using `touch readme.me`"
      ],
      "metadata": {
        "id": "FUaSWEaQBLFv"
      }
    },
    {
      "cell_type": "code",
      "source": [
        "!touch readme.me"
      ],
      "metadata": {
        "id": "dJ4PelLlAvcS"
      },
      "execution_count": 33,
      "outputs": []
    },
    {
      "cell_type": "markdown",
      "source": [
        "add file to staging area by `git add <filename.ext>` so it would be `git add readme.md`"
      ],
      "metadata": {
        "id": "B8BTOeJCBbAa"
      }
    },
    {
      "cell_type": "code",
      "source": [
        "!git add readme.me"
      ],
      "metadata": {
        "id": "iYoDo9WFBluf"
      },
      "execution_count": 34,
      "outputs": []
    },
    {
      "cell_type": "markdown",
      "source": [
        "View status of file in repo with git status"
      ],
      "metadata": {
        "id": "JPei5hbXCDQV"
      }
    },
    {
      "cell_type": "code",
      "source": [
        "!git status"
      ],
      "metadata": {
        "colab": {
          "base_uri": "https://localhost:8080/"
        },
        "id": "A_m9GUZHCBQu",
        "outputId": "d24f4772-7667-4487-e5d6-61dd716337ad"
      },
      "execution_count": 35,
      "outputs": [
        {
          "output_type": "stream",
          "name": "stdout",
          "text": [
            "On branch master\n",
            "\n",
            "No commits yet\n",
            "\n",
            "Changes to be committed:\n",
            "  (use \"git rm --cached <file>...\" to unstage)\n",
            "\t\u001b[32mnew file:   readme.me\u001b[m\n",
            "\n"
          ]
        }
      ]
    },
    {
      "cell_type": "markdown",
      "source": [
        "git diff shows diffrences in files between working directory and staging area"
      ],
      "metadata": {
        "id": "kjyaE0fECICT"
      }
    },
    {
      "cell_type": "code",
      "source": [
        "!git diff"
      ],
      "metadata": {
        "id": "kzwrHdLoCMWZ"
      },
      "execution_count": 27,
      "outputs": []
    },
    {
      "cell_type": "markdown",
      "source": [
        "Commit change, commits eveyrthing in staging area"
      ],
      "metadata": {
        "id": "QzHkmOwpCnrP"
      }
    },
    {
      "cell_type": "code",
      "source": [
        "!git commit -m 'readme.me'"
      ],
      "metadata": {
        "colab": {
          "base_uri": "https://localhost:8080/"
        },
        "id": "PMOEHQPlCO0B",
        "outputId": "6a4c7d8a-7388-4ba7-dcbf-b893ab312e35"
      },
      "execution_count": 39,
      "outputs": [
        {
          "output_type": "stream",
          "name": "stdout",
          "text": [
            "On branch master\n",
            "nothing to commit, working tree clean\n"
          ]
        }
      ]
    },
    {
      "cell_type": "code",
      "source": [
        "!git config --global user.email \"ksoleman@uw.edu\""
      ],
      "metadata": {
        "id": "ZAHkwz9vC2Pu"
      },
      "execution_count": 37,
      "outputs": []
    },
    {
      "cell_type": "code",
      "source": [
        "!git config --global user.name \"Kaevon S\""
      ],
      "metadata": {
        "id": "jN7zKFT_C-oc"
      },
      "execution_count": 38,
      "outputs": []
    },
    {
      "cell_type": "code",
      "source": [
        "!git commit -m 'example'"
      ],
      "metadata": {
        "id": "hCFjW6ZXDCSG",
        "outputId": "2920fe25-63ee-440f-8a44-61eca8f316e8",
        "colab": {
          "base_uri": "https://localhost:8080/"
        }
      },
      "execution_count": 14,
      "outputs": [
        {
          "output_type": "stream",
          "name": "stdout",
          "text": [
            "[master (root-commit) 756a633] example\n",
            " 1 file changed, 0 insertions(+), 0 deletions(-)\n",
            " create mode 100644 readme.me\n"
          ]
        }
      ]
    },
    {
      "cell_type": "markdown",
      "source": [
        "show commit history"
      ],
      "metadata": {
        "id": "z8A2J4Y1z555"
      }
    },
    {
      "cell_type": "code",
      "source": [
        "!git log"
      ],
      "metadata": {
        "colab": {
          "base_uri": "https://localhost:8080/"
        },
        "id": "XjbRNhe1z3pq",
        "outputId": "9e334857-55de-4921-caa0-9ce643a0228d"
      },
      "execution_count": 15,
      "outputs": [
        {
          "output_type": "stream",
          "name": "stdout",
          "text": [
            "\u001b[33mcommit 756a633406cac266f14670d7b4ccb8f07aac42f5\u001b[m\u001b[33m (\u001b[m\u001b[1;36mHEAD -> \u001b[m\u001b[1;32mmaster\u001b[m\u001b[33m)\u001b[m\n",
            "Author: Kaevon S <ksoleman@uw.edu>\n",
            "Date:   Wed Aug 2 05:12:54 2023 +0000\n",
            "\n",
            "    example\n"
          ]
        }
      ]
    },
    {
      "cell_type": "markdown",
      "source": [
        "Add repo location to connect with github\n",
        "\n",
        "\n",
        "```\n",
        "!git remote add origin <repo locatin url>\n",
        "\n"
      ],
      "metadata": {
        "id": "GHoJuYh21AVj"
      }
    },
    {
      "cell_type": "code",
      "source": [
        "!git remote add origin https://github.com/ksoleman/example.git"
      ],
      "metadata": {
        "id": "HuvWVEjW1C6q"
      },
      "execution_count": 40,
      "outputs": []
    },
    {
      "cell_type": "markdown",
      "source": [
        "now you need o push to github"
      ],
      "metadata": {
        "id": "4shoF-sY1Lyv"
      }
    },
    {
      "cell_type": "code",
      "source": [
        "!git push -u origin master"
      ],
      "metadata": {
        "colab": {
          "base_uri": "https://localhost:8080/"
        },
        "id": "Fa06xPFu1NgE",
        "outputId": "47e46d98-eab0-4bed-e70f-756279a5ff83"
      },
      "execution_count": 41,
      "outputs": [
        {
          "output_type": "stream",
          "name": "stdout",
          "text": [
            "fatal: could not read Username for 'https://github.com': No such device or address\n"
          ]
        }
      ]
    },
    {
      "cell_type": "code",
      "source": [
        "!git init\n",
        "!git add README.md\n",
        "!git commit -m \"first commit\"\n",
        "!git branch -M main\n",
        "!git remote add origin https://github.com/ksoleman/example.git\n",
        "!git push -u origin main"
      ],
      "metadata": {
        "colab": {
          "base_uri": "https://localhost:8080/"
        },
        "id": "DpsGrWjO2XXL",
        "outputId": "ede39485-6830-4237-8053-a17a7bb512ff"
      },
      "execution_count": 48,
      "outputs": [
        {
          "output_type": "stream",
          "name": "stdout",
          "text": [
            "Reinitialized existing Git repository in /content/test1/test1/.git/\n",
            "fatal: pathspec 'README.md' did not match any files\n",
            "On branch main\n",
            "nothing to commit, working tree clean\n",
            "error: remote origin already exists.\n",
            "fatal: could not read Username for 'https://github.com': No such device or address\n"
          ]
        }
      ]
    }
  ]
}